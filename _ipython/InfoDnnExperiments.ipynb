{
 "cells": [
  {
   "cell_type": "code",
   "execution_count": null,
   "metadata": {
    "collapsed": true
   },
   "outputs": [],
   "source": [
    "# Importing stuff\n",
    "import torch\n",
    "import torch.nn as nn\n",
    "import torch.nn.functional as F\n",
    "from torch.utils.data import Dataset, DataLoader\n",
    "import torch.optim as optim\n",
    "\n",
    "import itertools\n",
    "from random import randint\n",
    "import numpy\n",
    "from numpy import linalg as LA"
   ]
  },
  {
   "cell_type": "code",
   "execution_count": null,
   "metadata": {
    "collapsed": true
   },
   "outputs": [],
   "source": [
    "# Utility function for dealing with custom data\n",
    "def stringtoVector(X):\n",
    "    return [float(x) for x in X]\n",
    "\n",
    "# Classification task generation\n",
    "def rule(x):\n",
    "    calc = ((int(x[0]) & int(x[1])) | (int(x[2]) & int(x[3])))\n",
    "    if randint(0,100) <= 6:\n",
    "        if calc == 0:\n",
    "            return 1\n",
    "        return 0\n",
    "    return calc"
   ]
  },
  {
   "cell_type": "code",
   "execution_count": null,
   "metadata": {
    "collapsed": true
   },
   "outputs": [],
   "source": [
    "# Data generation\n",
    "distinct = [\"\".join(seq) for seq in itertools.product(\"01\", repeat=4)]\n",
    "X_train = []\n",
    "Y_train = []\n",
    "\n",
    "X_test = []\n",
    "Y_test = []\n",
    "\n",
    "for i in range(0,4096):\n",
    "    X_train.append(stringtoVector(distinct[randint(0, 15)]))\n",
    "    Y_train.append(rule(X_train[i]))\n",
    "    \n",
    "for i in range(0,4096):\n",
    "    X_test.append(stringtoVector(distinct[randint(0, 15)]))\n",
    "    Y_test.append(rule(X_test[i]))"
   ]
  },
  {
   "cell_type": "code",
   "execution_count": null,
   "metadata": {
    "collapsed": true
   },
   "outputs": [],
   "source": [
    "# DNN class\n",
    "class dataset(Dataset):\n",
    "    def __init__(self, X, Y, transform=None):\n",
    "        self.X = X\n",
    "        self.Y = Y\n",
    "        self.transform = transform\n",
    "\n",
    "    def __len__(self):\n",
    "        return len(self.X)\n",
    "\n",
    "    def __getitem__(self, idx):\n",
    "        sample, target = X[idx], Y[idx]\n",
    "\n",
    "        if self.transform:\n",
    "            sample = self.transform(sample)\n",
    "            target = self.transform(target)\n",
    "        return sample, target\n",
    "\n",
    "\n",
    "X = torch.from_numpy(numpy.array(X))\n",
    "Y = torch.from_numpy(numpy.array(Y))\n",
    "\n",
    "class Net(nn.Module):\n",
    "    def __init__(self):\n",
    "        super(Net, self).__init__()\n",
    "        self.fc1 = nn.Linear(4 ,4)\n",
    "        self.fc2 = nn.Linear(4 ,4)\n",
    "        self.fc3 = nn.Linear(4 ,4)\n",
    "        self.fc4 = nn.Linear(4 ,4)\n",
    "        self.fc5 = nn.Linear(4, 2)\n",
    "\n",
    "    def forward(self, x):\n",
    "        x = x.float()\n",
    "        x = F.tanh(self.fc1(x))\n",
    "        x = F.tanh(self.fc2(x))\n",
    "        x = F.tanh(self.fc3(x))\n",
    "        x = F.tanh(self.fc4(x))\n",
    "        x = F.tanh(self.fc5(x))\n",
    "        return x\n",
    "    def penultimateLayer(self, x):\n",
    "        x = x.float()\n",
    "        x = F.tanh(self.fc1(x))\n",
    "        x = F.tanh(self.fc2(x))\n",
    "        x = F.tanh(self.fc3(x))\n",
    "        x = F.tanh(self.fc4(x))\n",
    "        return x"
   ]
  },
  {
   "cell_type": "code",
   "execution_count": null,
   "metadata": {
    "collapsed": true
   },
   "outputs": [],
   "source": [
    "# Actual training stuff\n",
    "net = Net()\n",
    "criterion = nn.CrossEntropyLoss()\n",
    "optimizer = optim.SGD(net.parameters(), lr=0.0003)\n",
    "data = dataset(X,Y)\n",
    "trainloader = DataLoader(data, 16)"
   ]
  },
  {
   "cell_type": "code",
   "execution_count": null,
   "metadata": {
    "collapsed": false
   },
   "outputs": [],
   "source": [
    "# Training\n",
    "for epoch in range(10000):\n",
    "    running_loss = 0.0\n",
    "    for i, data in enumerate(trainloader, 0):\n",
    "        # get the inputs\n",
    "        inputs, labels = data\n",
    "        # zero the parameter gradients\n",
    "        optimizer.zero_grad()\n",
    "\n",
    "        # forward + backward + optimize\n",
    "        outputs = net(inputs)\n",
    "        loss = criterion(outputs, labels)\n",
    "        loss.backward()\n",
    "        optimizer.step()\n",
    "\n",
    "        # print statistics\n",
    "        running_loss += loss.item()\n",
    "        \n",
    "        if epoch % 100 == 0:\n",
    "            print('[%d, %5d] loss: %.6f' %(epoch + 1, i + 1, running_loss))\n",
    "        running_loss = 0.0"
   ]
  },
  {
   "cell_type": "code",
   "execution_count": null,
   "metadata": {
    "collapsed": false
   },
   "outputs": [],
   "source": [
    "# Evaulating NN\n",
    "train_correct = 0\n",
    "\n",
    "train_outputs = net(torch.FloatTensor(X_train))\n",
    "_,predicted_train = torch.max(outputs.data, 1)\n",
    "train_correct += (predicted_train == torch.LongTensor(Y_train)).sum().item()\n",
    "\n",
    "print(train_correct)\n",
    "\n",
    "test_correct = 0\n",
    "\n",
    "test_outputs = net(torch.FloatTensor(X_test))\n",
    "_,predicted_test = torch.max(outputs.data, 1)\n",
    "test_correct += (predicted_test == torch.LongTensor(Y_test)).sum().item()\n",
    "\n",
    "print(test_correct)"
   ]
  },
  {
   "cell_type": "code",
   "execution_count": null,
   "metadata": {
    "collapsed": false
   },
   "outputs": [],
   "source": [
    "### EPSILON PARITION\n",
    "Z = net.penultimateLayer(X).detach().numpy()\n",
    "epsilon = 0.0001"
   ]
  },
  {
   "cell_type": "code",
   "execution_count": null,
   "metadata": {
    "collapsed": false
   },
   "outputs": [],
   "source": [
    "def ePartition(epsilon, Z):\n",
    "    partitions = []\n",
    "    visited = [0]*len(Z)\n",
    "    for i in range(len(Z)):\n",
    "        part = []\n",
    "        if visited[i] == 0:\n",
    "            part.append(i)\n",
    "            for j in range(i+1,len(Z)):\n",
    "                if visited[j] == 0:\n",
    "                    if ((Z[i]-Z[j])**2).sum() < epsilon:\n",
    "                        part.append(j)\n",
    "                        visited[j] = 1\n",
    "            partitions.append(part)\n",
    "    return partitions"
   ]
  },
  {
   "cell_type": "code",
   "execution_count": null,
   "metadata": {
    "collapsed": false
   },
   "outputs": [],
   "source": [
    "epsPart = ePartition(epsilon, Z)\n",
    "print len(epsPart)\n",
    "for part in epsPart:\n",
    "    print len(part)"
   ]
  },
  {
   "cell_type": "code",
   "execution_count": null,
   "metadata": {
    "collapsed": true
   },
   "outputs": [],
   "source": [
    "# Mutual information calculation I(X;T_E)\n",
    "XX = X.detach().numpy()\n",
    "mm = [  [0.0, 0.0, 0.0, 0.0],\n",
    "        [0.0, 0.0, 0.0, 1.0],\n",
    "        [0.0, 0.0, 1.0, 0.0],\n",
    "        [0.0, 0.0, 1.0, 1.0],\n",
    "        [0.0, 1.0, 0.0, 0.0],\n",
    "        [0.0, 1.0, 0.0, 1.0],\n",
    "        [0.0, 1.0, 1.0, 0.0],\n",
    "        [0.0, 1.0, 1.0, 1.0],\n",
    "        [1.0, 0.0, 0.0, 0.0],\n",
    "        [1.0, 0.0, 0.0, 1.0],\n",
    "        [1.0, 0.0, 1.0, 0.0],\n",
    "        [1.0, 0.0, 1.0, 1.0],\n",
    "        [1.0, 1.0, 0.0, 0.0],\n",
    "        [1.0, 1.0, 0.0, 1.0],\n",
    "        [1.0, 1.0, 1.0, 0.0],\n",
    "        [1.0, 1.0, 1.0, 1.0]]\n",
    "\n",
    "def mapping(index):\n",
    "    for i in range(16):\n",
    "        if (XX[index] == mm[i]).all():\n",
    "            return i"
   ]
  },
  {
   "cell_type": "code",
   "execution_count": null,
   "metadata": {
    "collapsed": true
   },
   "outputs": [],
   "source": [
    "entropies = []\n",
    "import math\n",
    "for part in partitions:\n",
    "    counts = [0]*16\n",
    "    y_count = [0]*2\n",
    "    for x in part:\n",
    "        counts[mapping(x)] += 1\n",
    "        y_count[fun2(XX[x])] += 1\n",
    "    entropy = 0\n",
    "    print counts\n",
    "    print y_count\n",
    "    for i in range(16):\n",
    "        if counts[i] != 0:\n",
    "            pi = float(counts[i])/len(part)\n",
    "            entropy += (pi*math.log(pi,2))\n",
    "    print entropy\n",
    "    entropies.append(entropy) "
   ]
  }
 ],
 "metadata": {
  "kernelspec": {
   "display_name": "Python 2",
   "language": "python",
   "name": "python2"
  },
  "language_info": {
   "codemirror_mode": {
    "name": "ipython",
    "version": 2
   },
   "file_extension": ".py",
   "mimetype": "text/x-python",
   "name": "python",
   "nbconvert_exporter": "python",
   "pygments_lexer": "ipython2",
   "version": "2.7.12"
  }
 },
 "nbformat": 4,
 "nbformat_minor": 2
}
